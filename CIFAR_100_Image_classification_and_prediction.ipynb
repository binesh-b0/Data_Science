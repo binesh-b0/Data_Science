{
  "nbformat": 4,
  "nbformat_minor": 0,
  "metadata": {
    "kernelspec": {
      "language": "python",
      "display_name": "Python 3",
      "name": "python3"
    },
    "language_info": {
      "name": "python",
      "version": "3.7.10",
      "mimetype": "text/x-python",
      "codemirror_mode": {
        "name": "ipython",
        "version": 3
      },
      "pygments_lexer": "ipython3",
      "nbconvert_exporter": "python",
      "file_extension": ".py"
    },
    "colab": {
      "provenance": []
    }
  },
  "cells": [
    {
      "cell_type": "markdown",
      "metadata": {
        "id": "yy9OErz22uwE"
      },
      "source": [
        "\n",
        "#**CIFAR-100 Image classsification and prediction ( using tensorflow)**\n",
        "\n",
        "\n",
        "\n",
        "\n",
        "---\n",
        "\n"
      ]
    },
    {
      "cell_type": "markdown",
      "metadata": {
        "id": "iTSeLJ1tB-kn"
      },
      "source": [
        "## **Introduction**\n",
        "\n",
        "The CIFAR-100 dataset consists of 50,000 color training images and 10,000 testing images of size 32x32.The images are grouped under 100 labels (over 20 classes). The dataset can be used for deep learning and computer vision.\n"
      ]
    },
    {
      "cell_type": "markdown",
      "metadata": {
        "id": "I1lCJI6nGDld"
      },
      "source": [
        "Convolutional neural network (CNN) is a deep neural network used to analyze image data.A CNN can be build using teserflow to understand,classify and predict images of CIFAR-100 dataset."
      ]
    },
    {
      "cell_type": "code",
      "metadata": {
        "id": "WLh6lcGWtJse",
        "execution": {
          "iopub.status.busy": "2021-08-02T17:34:32.147566Z",
          "iopub.execute_input": "2021-08-02T17:34:32.147906Z",
          "iopub.status.idle": "2021-08-02T17:34:32.155497Z",
          "shell.execute_reply.started": "2021-08-02T17:34:32.147875Z",
          "shell.execute_reply": "2021-08-02T17:34:32.154282Z"
        },
        "trusted": true
      },
      "source": [
        "# importing required libraries\n",
        "import tensorflow as tf\n",
        "from tensorflow.keras import datasets, layers, models\n",
        "import matplotlib.pyplot as plt\n",
        "import numpy as np\n",
        "from tensorflow.keras.layers import Dense, Flatten, Conv2D, MaxPooling2D\n",
        "from tensorflow.keras.models import Sequential\n",
        "from tensorflow.keras.losses import sparse_categorical_crossentropy\n",
        "from tensorflow.keras.optimizers import Adam\n",
        "from keras.layers import Input, Flatten, Dense, Dropout, Activation,BatchNormalization\n",
        "from keras.preprocessing.image import ImageDataGenerator\n",
        "from keras import regularizers"
      ],
      "execution_count": null,
      "outputs": []
    },
    {
      "cell_type": "code",
      "metadata": {
        "id": "HSqALTEfvzor",
        "execution": {
          "iopub.status.busy": "2021-08-02T17:34:32.157170Z",
          "iopub.execute_input": "2021-08-02T17:34:32.157634Z",
          "iopub.status.idle": "2021-08-02T17:34:32.879286Z",
          "shell.execute_reply.started": "2021-08-02T17:34:32.157598Z",
          "shell.execute_reply": "2021-08-02T17:34:32.878384Z"
        },
        "trusted": true
      },
      "source": [
        "# loading dataset\n",
        "(x_train, y_train), (x_test,y_test) = datasets.cifar100.load_data()\n",
        "# loading the class labels\n",
        "labels =  ['apple', 'aquarium_fish', 'baby', 'bear', 'beaver', 'bed', 'bee', 'beetle', 'bicycle', 'bottle', 'bowl', 'boy', 'bridge', 'bus', 'butterfly', 'camel', 'can', 'castle', 'caterpillar', 'cattle', 'chair', 'chimpanzee', 'clock', 'cloud', 'cockroach', 'couch', 'crab', 'crocodile', 'cup', 'dinosaur', 'dolphin', 'elephant', 'flatfish', 'forest', 'fox', 'girl', 'hamster', 'house', 'kangaroo', 'computer_keyboard', 'lamp', 'lawn_mower', 'leopard', 'lion', 'lizard', 'lobster', 'man', 'maple_tree', 'motorcycle', 'mountain', 'mouse', 'mushroom', 'oak_tree', 'orange', 'orchid', 'otter', 'palm_tree', 'pear', 'pickup_truck', 'pine_tree', 'plain', 'plate', 'poppy', 'porcupine', 'possum', 'rabbit', 'raccoon', 'ray', 'road', 'rocket', 'rose', 'sea', 'seal', 'shark', 'shrew', 'skunk', 'skyscraper', 'snail', 'snake', 'spider', 'squirrel', 'streetcar', 'sunflower', 'sweet_pepper', 'table', 'tank', 'telephone', 'television', 'tiger', 'tractor', 'train', 'trout', 'tulip', 'turtle', 'wardrobe', 'whale', 'willow_tree', 'wolf', 'woman', 'worm']"
      ],
      "execution_count": null,
      "outputs": []
    },
    {
      "cell_type": "code",
      "metadata": {
        "id": "PUNcDQ_sv8Yi",
        "execution": {
          "iopub.status.busy": "2021-08-02T17:34:32.881074Z",
          "iopub.execute_input": "2021-08-02T17:34:32.881462Z",
          "iopub.status.idle": "2021-08-02T17:34:32.886459Z",
          "shell.execute_reply.started": "2021-08-02T17:34:32.881422Z",
          "shell.execute_reply": "2021-08-02T17:34:32.885360Z"
        },
        "trusted": true,
        "outputId": "54b586e8-bf5e-4897-ba18-93701303b865"
      },
      "source": [
        "print(f'x_train ={x_train.shape} \\n y_train={y_train.shape}')"
      ],
      "execution_count": null,
      "outputs": [
        {
          "output_type": "stream",
          "text": [
            "x_train =(50000, 32, 32, 3) \n",
            " y_train=(50000, 1)\n"
          ],
          "name": "stdout"
        }
      ]
    },
    {
      "cell_type": "code",
      "metadata": {
        "id": "VNvBHFey9CNy",
        "execution": {
          "iopub.status.busy": "2021-08-02T17:34:32.888018Z",
          "iopub.execute_input": "2021-08-02T17:34:32.888414Z",
          "iopub.status.idle": "2021-08-02T17:34:32.898888Z",
          "shell.execute_reply.started": "2021-08-02T17:34:32.888376Z",
          "shell.execute_reply": "2021-08-02T17:34:32.898065Z"
        },
        "trusted": true,
        "outputId": "62dddb02-8e82-4b43-aa94-624dd3e14567"
      },
      "source": [
        "print(f'x_text ={x_test.shape} \\n y_test={y_test.shape}')"
      ],
      "execution_count": null,
      "outputs": [
        {
          "output_type": "stream",
          "text": [
            "x_text =(10000, 32, 32, 3) \n",
            " y_test=(10000, 1)\n"
          ],
          "name": "stdout"
        }
      ]
    },
    {
      "cell_type": "code",
      "metadata": {
        "id": "Wxf4Q6iuKZIH",
        "execution": {
          "iopub.status.busy": "2021-08-02T17:34:32.901749Z",
          "iopub.execute_input": "2021-08-02T17:34:32.902016Z",
          "iopub.status.idle": "2021-08-02T17:34:32.910156Z",
          "shell.execute_reply.started": "2021-08-02T17:34:32.901992Z",
          "shell.execute_reply": "2021-08-02T17:34:32.909347Z"
        },
        "trusted": true,
        "outputId": "6dd29b14-7271-4547-86fe-338d532bf9ce"
      },
      "source": [
        "x_train[0,:,:].shape"
      ],
      "execution_count": null,
      "outputs": [
        {
          "output_type": "execute_result",
          "data": {
            "text/plain": [
              "(32, 32, 3)"
            ]
          },
          "metadata": {
            "tags": []
          },
          "execution_count": 18
        }
      ]
    },
    {
      "cell_type": "markdown",
      "metadata": {
        "id": "FkkDL37oI_HB"
      },
      "source": [
        "There are 50k training images and 10k test images of size, 32 pixels x 32 pixels, each image in 3 channels. The 3 channels represents the RGB values of each pixels"
      ]
    },
    {
      "cell_type": "markdown",
      "metadata": {
        "id": "pk1KKpntI4LT"
      },
      "source": [
        "##**Data visualization:**\n",
        "<p>To verify the dataset"
      ]
    },
    {
      "cell_type": "code",
      "metadata": {
        "id": "TwbVMI5BJkvb",
        "cellView": "form",
        "execution": {
          "iopub.status.busy": "2021-08-02T17:34:32.911792Z",
          "iopub.execute_input": "2021-08-02T17:34:32.912028Z",
          "iopub.status.idle": "2021-08-02T17:34:33.013559Z",
          "shell.execute_reply.started": "2021-08-02T17:34:32.912004Z",
          "shell.execute_reply": "2021-08-02T17:34:33.012502Z"
        },
        "trusted": true,
        "outputId": "756fd11d-dcbb-46d8-9c70-702d395ee7f8"
      },
      "source": [
        "#@title Sample Image\n",
        "# sample image\n",
        "index =np.random.randint(0,1000)\n",
        "plt.figure(figsize=(2,2))\n",
        "plt.imshow(x_train[index])\n",
        "print(y_train[index])\n",
        "print(labels[int(y_train[index])])"
      ],
      "execution_count": null,
      "outputs": [
        {
          "output_type": "stream",
          "text": [
            "[98]\n",
            "woman\n"
          ],
          "name": "stdout"
        },
        {
          "output_type": "display_data",
          "data": {
            "text/plain": [
              "<Figure size 144x144 with 1 Axes>"
            ],
            "image/png": "[encoded data removed]"
          },
          "metadata": {
            "tags": [],
            "needs_background": "light"
          }
        }
      ]
    },
    {
      "cell_type": "markdown",
      "metadata": {
        "id": "eFwiidTkKXWm"
      },
      "source": [
        "##**Data preprocessing**"
      ]
    },
    {
      "cell_type": "markdown",
      "metadata": {
        "id": "P7Cb_aP_3HSD"
      },
      "source": [
        "A 4D array input is required by the CNN to perform image recognition and classification"
      ]
    },
    {
      "cell_type": "markdown",
      "metadata": {
        "id": "mCOYwY1icnOZ"
      },
      "source": [
        "**Normalizing**:\n",
        "* Scaling the images to be within same range as the weights of the neural networks are initialized to very small numbers.\n",
        "* Normalization helps to converge models faster\n",
        "* pixel valies are scaled to range [0,1]\n",
        "* since the max value of CIFAR-100 image date is 255, we can normalize the data by dividing every number by 255\n"
      ]
    },
    {
      "cell_type": "code",
      "metadata": {
        "id": "dRCyY2XfURoo",
        "execution": {
          "iopub.status.busy": "2021-08-02T17:34:33.015148Z",
          "iopub.execute_input": "2021-08-02T17:34:33.015549Z",
          "iopub.status.idle": "2021-08-02T17:34:33.483578Z",
          "shell.execute_reply.started": "2021-08-02T17:34:33.015508Z",
          "shell.execute_reply": "2021-08-02T17:34:33.482657Z"
        },
        "trusted": true
      },
      "source": [
        "#4D array input for building the CNN model using Keras\n",
        "input_shape = (32, 32, 3)\n",
        "# to normalize data we divide every number to the max value which is 255.0, which also changes its type to float\n",
        "\n",
        "x_train =x_train/ 255.0\n",
        "x_test =x_test/ 255.0\n",
        "\n",
        "y_train = y_train.astype('float32')\n",
        "y_test = y_test.astype('float32')"
      ],
      "execution_count": null,
      "outputs": []
    },
    {
      "cell_type": "markdown",
      "metadata": {
        "id": "d3HjUfjmaNJK"
      },
      "source": [
        "**Data augmentation:**\n",
        "<p>Another common pre-processing technique involves augmenting the existing data-set with perturbed versions of the existing images. Scaling, rotations and other affine transformations are typical. This is done to expose the neural network to a wide variety of variations. This makes it less likely that the neural network recognizes unwanted characteristics in the data-set.\n",
        "\n",
        "\n",
        "\n",
        "*   decreases the chance that the neural network recognizes unwanted charecteristics from data\n",
        "\n",
        "\n"
      ]
    },
    {
      "cell_type": "code",
      "metadata": {
        "id": "6MoqntptoI0x",
        "execution": {
          "iopub.status.busy": "2021-08-02T17:34:33.487565Z",
          "iopub.execute_input": "2021-08-02T17:34:33.487988Z",
          "iopub.status.idle": "2021-08-02T17:34:33.500200Z",
          "shell.execute_reply.started": "2021-08-02T17:34:33.487947Z",
          "shell.execute_reply": "2021-08-02T17:34:33.499225Z"
        },
        "trusted": true
      },
      "source": [
        "data_augmentation = tf.keras.Sequential([\n",
        "  layers.experimental.preprocessing.RandomFlip(\"horizontal\"),\n",
        "])\n"
      ],
      "execution_count": null,
      "outputs": []
    },
    {
      "cell_type": "markdown",
      "metadata": {
        "id": "-KcbUwwmcww_"
      },
      "source": [
        "## Building the model"
      ]
    },
    {
      "cell_type": "markdown",
      "metadata": {
        "id": "mN3NJ7vb33uU"
      },
      "source": [
        "* CNN is configured to process input of shape (32,32,3) which is the format of CIFAR database, passing inpit chape to the first layer\n",
        "* Build a sequential model and convolution and max pooling layers are added to it. The hidden layers in a CNN are generally convolution and pooling(downsampling) layers.\n",
        "* In each convolution layer, we take a filter of a small size and move that filter across the image and perform convolution operations, which are the  element-wise matrix multiplication between the filter values and the pixels in the image and the resultant values are summed.\n",
        "*Batch normalization standardizes the inputs to a layer for each mini-batch; stabilizing and significantly reducing the number of training epochs needed to train a deep neural network\n",
        "* Dropout layers are added in between so that data is forced to find new path as the dropout randomly switches off some neurons in the network.This reduces overfitting\n",
        "* To complete the model, the last output of the convolutional base is fed into the dense layers to perform classfication.The output of conv layers needs to be flatten or unrol first since Dense layers take vectors as input while conv output is a tensor.\n",
        "* CIFAR - 100 has 100 output classes, final Dense layer with 100 outputs is used (decision making)."
      ]
    },
    {
      "cell_type": "code",
      "metadata": {
        "id": "1EC6sxcsay0f",
        "execution": {
          "iopub.status.busy": "2021-08-02T18:57:10.828988Z",
          "iopub.execute_input": "2021-08-02T18:57:10.829357Z",
          "iopub.status.idle": "2021-08-02T18:57:10.911100Z",
          "shell.execute_reply.started": "2021-08-02T18:57:10.829311Z",
          "shell.execute_reply": "2021-08-02T18:57:10.910243Z"
        },
        "trusted": true
      },
      "source": [
        "\n",
        "# initialize the model\n",
        "model = Sequential()\n",
        "# data augmentation commented as resourse limits in colab\n",
        "# model.add(data_augmentation)\n",
        "\n",
        "# Padding is added to preserve width and height.\n",
        "model.add(Conv2D(32, kernel_size=(5, 5), activation='relu', input_shape=input_shape,padding='same'))\n",
        "# Layer that normalizes its inputs\n",
        "model.add(BatchNormalization())\n",
        "model.add(Conv2D(32, kernel_size=(3, 3), activation='relu',padding='same'))\n",
        "model.add(MaxPooling2D(pool_size=(2, 2),strides=2))\n",
        "model.add(Dropout(.25))\n",
        "\n",
        "model.add(Conv2D(128, (3, 3), padding='same',activation = 'relu'))\n",
        "model.add(Conv2D(128, (3, 3), padding='same',activation = 'relu'))\n",
        "model.add(BatchNormalization())\n",
        "model.add(MaxPooling2D(pool_size=(2, 2)))\n",
        "model.add(Conv2D(256, (3, 3), padding='same',kernel_regularizer=regularizers.l2(0.00001),activation = 'relu'))\n",
        "model.add(BatchNormalization())\n",
        "model.add(Dropout(0.4))\n",
        "\n",
        "model.add(Conv2D(256, (3, 3), padding='same',activation = 'relu',kernel_regularizer=regularizers.l2(0.00001)))\n",
        "model.add(BatchNormalization())\n",
        "model.add(Dropout(0.4))\n",
        "model.add(Conv2D(256, (3, 3), padding='same',activation = 'relu',kernel_regularizer=regularizers.l2(0.00001)))\n",
        "model.add(BatchNormalization())\n",
        "model.add(MaxPooling2D(pool_size=(2, 2)))\n",
        "\n",
        "model.add(Conv2D(512, (3, 3), padding='same',activation = 'relu',kernel_regularizer=regularizers.l2(0.00001)))\n",
        "model.add(BatchNormalization())\n",
        "model.add(Dropout(0.4))\n",
        "model.add(Conv2D(512, (3, 3), padding='same',activation = 'relu',kernel_regularizer=regularizers.l2(0.00001)))\n",
        "model.add(BatchNormalization())\n",
        "model.add(Dropout(0.4))\n",
        "\n",
        "model.add(Conv2D(512, (3, 3), padding='same',activation = 'relu',kernel_regularizer=regularizers.l2(0.00001)))\n",
        "model.add(BatchNormalization())\n",
        "model.add(MaxPooling2D(pool_size=(2, 2)))\n",
        "model.add(Conv2D(512, (3, 3), padding='same',kernel_regularizer=regularizers.l2(0.00001),activation = 'relu'))\n",
        "model.add(BatchNormalization())\n",
        "model.add(Dropout(0.4))\n",
        "\n",
        "model.add(Conv2D(512, (3, 3), padding='same',kernel_regularizer=regularizers.l2(0.00001),activation = 'relu'))\n",
        "model.add(BatchNormalization())\n",
        "model.add(Dropout(0.4))\n",
        "model.add(Conv2D(512, (3, 3),activation = 'relu', padding='same',kernel_regularizer=regularizers.l2(0.00001)))\n",
        "model.add(BatchNormalization())\n",
        "model.add(MaxPooling2D(pool_size=(2, 2)))\n",
        "model.add(Dropout(0.5))\n",
        "# end of hidden layers\n",
        "\n",
        "model.add(Flatten())\n",
        "model.add(Dense(512,kernel_regularizer=regularizers.l2(0.00001),activation = 'relu'))\n",
        "model.add(Dropout(0.5))\n",
        "# decision making layer\n",
        "model.add(Dense(100,activation='softmax'))"
      ],
      "execution_count": null,
      "outputs": []
    },
    {
      "cell_type": "markdown",
      "metadata": {
        "id": "4iG-j_7-knEr"
      },
      "source": [
        "## Training and Evaluation"
      ]
    },
    {
      "cell_type": "markdown",
      "metadata": {
        "id": "dGDckAhkO6ET"
      },
      "source": [
        "<p>The model learns the dataset or is gradually optimized in this step of ML.The structure of the dataset is learned so that the model can make predicions on unseen data\n",
        "\n",
        "\n",
        "  * an epoch is one pass throught the dataset\n",
        "  * During each epoch,features(x) and labels(y) from dataset is taken.\n",
        "  * model variables are updated using an optimizer"
      ]
    },
    {
      "cell_type": "code",
      "metadata": {
        "id": "g15mAc1LQOw9",
        "execution": {
          "iopub.status.busy": "2021-08-02T18:57:22.956533Z",
          "iopub.execute_input": "2021-08-02T18:57:22.956845Z",
          "iopub.status.idle": "2021-08-02T19:34:47.570217Z",
          "shell.execute_reply.started": "2021-08-02T18:57:22.956816Z",
          "shell.execute_reply": "2021-08-02T19:34:47.569453Z"
        },
        "trusted": true,
        "outputId": "45f633fe-7007-4f5e-ccaa-fb775f5c9932"
      },
      "source": [
        "# To train a model with fit(), a loss function, an optimizer, and optionally, some metrics to monitor are needed to be specified\n",
        "# Compile the model\n",
        "model.compile(loss='sparse_categorical_crossentropy',optimizer='adam',metrics=['accuracy'])\n",
        "\n",
        "# fit data to the model\n",
        "model.fit(x=x_train, y=y_train, epochs=200,verbose=1,batch_size=256,\n",
        "           steps_per_epoch=x_train.shape[0] // 256,\n",
        "           validation_data=(x_test,y_test))"
      ],
      "execution_count": null,
      "outputs": [
        {
          "output_type": "stream",
          "text": [
            "Epoch 1/200\n",
            "195/195 [==============================] - 14s 60ms/step - loss: 5.0435 - accuracy: 0.0115 - val_loss: 4.6529 - val_accuracy: 0.0108\n",
            "Epoch 2/200\n",
            "195/195 [==============================] - 11s 57ms/step - loss: 4.5478 - accuracy: 0.0197 - val_loss: 4.5786 - val_accuracy: 0.0176\n",
            "Epoch 3/200\n",
            "195/195 [==============================] - 11s 57ms/step - loss: 4.3135 - accuracy: 0.0361 - val_loss: 4.4332 - val_accuracy: 0.0266\n",
            "Epoch 4/200\n",
            "195/195 [==============================] - 11s 57ms/step - loss: 4.1980 - accuracy: 0.0458 - val_loss: 4.2596 - val_accuracy: 0.0520\n",
            "Epoch 5/200\n",
            "195/195 [==============================] - 11s 57ms/step - loss: 4.0576 - accuracy: 0.0627 - val_loss: 4.1316 - val_accuracy: 0.0787\n",
            "Epoch 6/200\n",
            "195/195 [==============================] - 11s 57ms/step - loss: 3.8998 - accuracy: 0.0838 - val_loss: 4.3583 - val_accuracy: 0.0965\n",
            "Epoch 7/200\n",
            "195/195 [==============================] - 11s 57ms/step - loss: 3.7372 - accuracy: 0.1143 - val_loss: 3.9272 - val_accuracy: 0.1219\n",
            "Epoch 8/200\n",
            "195/195 [==============================] - 11s 57ms/step - loss: 3.5282 - accuracy: 0.1400 - val_loss: 3.9634 - val_accuracy: 0.1326\n",
            "Epoch 9/200\n",
            "195/195 [==============================] - 11s 57ms/step - loss: 3.3617 - accuracy: 0.1782 - val_loss: 3.2653 - val_accuracy: 0.2216\n",
            "Epoch 10/200\n",
            "195/195 [==============================] - 11s 57ms/step - loss: 3.1642 - accuracy: 0.2115 - val_loss: 3.3967 - val_accuracy: 0.2070\n",
            "Epoch 11/200\n",
            "195/195 [==============================] - 11s 57ms/step - loss: 2.9855 - accuracy: 0.2517 - val_loss: 3.1623 - val_accuracy: 0.2375\n",
            "Epoch 12/200\n",
            "195/195 [==============================] - 11s 57ms/step - loss: 2.8453 - accuracy: 0.2835 - val_loss: 2.8923 - val_accuracy: 0.2875\n",
            "Epoch 13/200\n",
            "195/195 [==============================] - 11s 58ms/step - loss: 2.6822 - accuracy: 0.3131 - val_loss: 2.8073 - val_accuracy: 0.3085\n",
            "Epoch 14/200\n",
            "195/195 [==============================] - 11s 57ms/step - loss: 2.5803 - accuracy: 0.3372 - val_loss: 2.5102 - val_accuracy: 0.3675\n",
            "Epoch 15/200\n",
            "195/195 [==============================] - 11s 57ms/step - loss: 2.5012 - accuracy: 0.3583 - val_loss: 2.4544 - val_accuracy: 0.3819\n",
            "Epoch 16/200\n",
            "195/195 [==============================] - 11s 57ms/step - loss: 2.4337 - accuracy: 0.3805 - val_loss: 2.3754 - val_accuracy: 0.4059\n",
            "Epoch 17/200\n",
            "195/195 [==============================] - 11s 57ms/step - loss: 2.6887 - accuracy: 0.3389 - val_loss: 2.4749 - val_accuracy: 0.3927\n",
            "Epoch 18/200\n",
            "195/195 [==============================] - 11s 57ms/step - loss: 2.3860 - accuracy: 0.4021 - val_loss: 2.9107 - val_accuracy: 0.3372\n",
            "Epoch 19/200\n",
            "195/195 [==============================] - 11s 57ms/step - loss: 2.4732 - accuracy: 0.3882 - val_loss: 2.6717 - val_accuracy: 0.3632\n",
            "Epoch 20/200\n",
            "195/195 [==============================] - 11s 57ms/step - loss: 2.3673 - accuracy: 0.4106 - val_loss: 2.4217 - val_accuracy: 0.4145\n",
            "Epoch 21/200\n",
            "195/195 [==============================] - 11s 57ms/step - loss: 2.2724 - accuracy: 0.4344 - val_loss: 2.4358 - val_accuracy: 0.4178\n",
            "Epoch 22/200\n",
            "195/195 [==============================] - 11s 57ms/step - loss: 2.4912 - accuracy: 0.3969 - val_loss: 2.3445 - val_accuracy: 0.4374\n",
            "Epoch 23/200\n",
            "195/195 [==============================] - 11s 57ms/step - loss: 2.2654 - accuracy: 0.4454 - val_loss: 2.1587 - val_accuracy: 0.4753\n",
            "Epoch 24/200\n",
            "195/195 [==============================] - 11s 57ms/step - loss: 2.1931 - accuracy: 0.4641 - val_loss: 2.2140 - val_accuracy: 0.4810\n",
            "Epoch 25/200\n",
            "195/195 [==============================] - 11s 58ms/step - loss: 2.1405 - accuracy: 0.4770 - val_loss: 2.5837 - val_accuracy: 0.4070\n",
            "Epoch 26/200\n",
            "195/195 [==============================] - 11s 57ms/step - loss: 2.2308 - accuracy: 0.4610 - val_loss: 2.1403 - val_accuracy: 0.4946\n",
            "Epoch 27/200\n",
            "195/195 [==============================] - 11s 57ms/step - loss: 2.1010 - accuracy: 0.4971 - val_loss: 2.1096 - val_accuracy: 0.5061\n",
            "Epoch 28/200\n",
            "195/195 [==============================] - 11s 57ms/step - loss: 2.0151 - accuracy: 0.5211 - val_loss: 2.1051 - val_accuracy: 0.5122\n",
            "Epoch 29/200\n",
            "195/195 [==============================] - 11s 57ms/step - loss: 2.0187 - accuracy: 0.5243 - val_loss: 2.1311 - val_accuracy: 0.5130\n",
            "Epoch 30/200\n",
            "195/195 [==============================] - 11s 57ms/step - loss: 1.9801 - accuracy: 0.5281 - val_loss: 2.4937 - val_accuracy: 0.4424\n",
            "Epoch 31/200\n",
            "195/195 [==============================] - 11s 57ms/step - loss: 2.1097 - accuracy: 0.5071 - val_loss: 2.1765 - val_accuracy: 0.5109\n",
            "Epoch 32/200\n",
            "195/195 [==============================] - 11s 57ms/step - loss: 1.9741 - accuracy: 0.5432 - val_loss: 2.2397 - val_accuracy: 0.5072\n",
            "Epoch 33/200\n",
            "195/195 [==============================] - 11s 57ms/step - loss: 1.9723 - accuracy: 0.5442 - val_loss: 2.1071 - val_accuracy: 0.5285\n",
            "Epoch 34/200\n",
            "195/195 [==============================] - 11s 57ms/step - loss: 1.9501 - accuracy: 0.5563 - val_loss: 2.6789 - val_accuracy: 0.4223\n",
            "Epoch 35/200\n",
            "195/195 [==============================] - 11s 57ms/step - loss: 2.2092 - accuracy: 0.5004 - val_loss: 2.2499 - val_accuracy: 0.5219\n",
            "Epoch 36/200\n",
            "195/195 [==============================] - 11s 57ms/step - loss: 2.0157 - accuracy: 0.5476 - val_loss: 2.3188 - val_accuracy: 0.4984\n",
            "Epoch 37/200\n",
            "195/195 [==============================] - 11s 57ms/step - loss: 2.2462 - accuracy: 0.5067 - val_loss: 3.9358 - val_accuracy: 0.2748\n",
            "Epoch 38/200\n",
            "195/195 [==============================] - 11s 57ms/step - loss: 2.1966 - accuracy: 0.5154 - val_loss: 2.5682 - val_accuracy: 0.4590\n",
            "Epoch 39/200\n",
            "195/195 [==============================] - 11s 57ms/step - loss: 2.2319 - accuracy: 0.5139 - val_loss: 2.2190 - val_accuracy: 0.5246\n",
            "Epoch 40/200\n",
            "195/195 [==============================] - 11s 57ms/step - loss: 2.6407 - accuracy: 0.4351 - val_loss: 3.4573 - val_accuracy: 0.3101\n",
            "Epoch 41/200\n",
            "195/195 [==============================] - 11s 58ms/step - loss: 2.4942 - accuracy: 0.4600 - val_loss: 2.5798 - val_accuracy: 0.4489\n",
            "Epoch 42/200\n",
            "195/195 [==============================] - 11s 57ms/step - loss: 2.2114 - accuracy: 0.5261 - val_loss: 2.2961 - val_accuracy: 0.5147\n",
            "Epoch 43/200\n",
            "195/195 [==============================] - 11s 57ms/step - loss: 2.0809 - accuracy: 0.5528 - val_loss: 2.4419 - val_accuracy: 0.5008\n",
            "Epoch 44/200\n",
            "195/195 [==============================] - 11s 58ms/step - loss: 2.0707 - accuracy: 0.5611 - val_loss: 2.3530 - val_accuracy: 0.5222\n",
            "Epoch 45/200\n",
            "195/195 [==============================] - 11s 58ms/step - loss: 2.1053 - accuracy: 0.5533 - val_loss: 2.1992 - val_accuracy: 0.5499\n",
            "Epoch 46/200\n",
            "195/195 [==============================] - 11s 58ms/step - loss: 1.9382 - accuracy: 0.5915 - val_loss: 2.2691 - val_accuracy: 0.5369\n",
            "Epoch 47/200\n",
            "195/195 [==============================] - 11s 58ms/step - loss: 2.8378 - accuracy: 0.4159 - val_loss: 4.5811 - val_accuracy: 0.1499\n",
            "Epoch 48/200\n",
            "195/195 [==============================] - 11s 58ms/step - loss: 3.2080 - accuracy: 0.3252 - val_loss: 2.8785 - val_accuracy: 0.3974\n",
            "Epoch 49/200\n",
            "195/195 [==============================] - 11s 57ms/step - loss: 2.7558 - accuracy: 0.4161 - val_loss: 2.6308 - val_accuracy: 0.4544\n",
            "Epoch 50/200\n",
            "195/195 [==============================] - 11s 57ms/step - loss: 2.5479 - accuracy: 0.4655 - val_loss: 2.4206 - val_accuracy: 0.5045\n",
            "Epoch 51/200\n",
            "195/195 [==============================] - 11s 58ms/step - loss: 2.4308 - accuracy: 0.4925 - val_loss: 2.4735 - val_accuracy: 0.5029\n",
            "Epoch 52/200\n",
            "195/195 [==============================] - 11s 58ms/step - loss: 2.3745 - accuracy: 0.5077 - val_loss: 3.2489 - val_accuracy: 0.3662\n",
            "Epoch 53/200\n",
            "195/195 [==============================] - 11s 58ms/step - loss: 2.4138 - accuracy: 0.5053 - val_loss: 2.4563 - val_accuracy: 0.5088\n",
            "Epoch 54/200\n",
            "195/195 [==============================] - 11s 58ms/step - loss: 2.2804 - accuracy: 0.5339 - val_loss: 2.4724 - val_accuracy: 0.5019\n",
            "Epoch 55/200\n",
            "195/195 [==============================] - 11s 57ms/step - loss: 2.2953 - accuracy: 0.5283 - val_loss: 2.3763 - val_accuracy: 0.5313\n",
            "Epoch 56/200\n",
            "195/195 [==============================] - 11s 57ms/step - loss: 2.1744 - accuracy: 0.5593 - val_loss: 2.2962 - val_accuracy: 0.5424\n",
            "Epoch 57/200\n",
            "195/195 [==============================] - 11s 58ms/step - loss: 2.2329 - accuracy: 0.5512 - val_loss: 2.4203 - val_accuracy: 0.5275\n",
            "Epoch 58/200\n",
            "195/195 [==============================] - 11s 59ms/step - loss: 2.2183 - accuracy: 0.5505 - val_loss: 2.4514 - val_accuracy: 0.5185\n",
            "Epoch 59/200\n",
            "195/195 [==============================] - 11s 58ms/step - loss: 2.1587 - accuracy: 0.5708 - val_loss: 2.2615 - val_accuracy: 0.5639\n",
            "Epoch 60/200\n",
            "195/195 [==============================] - 11s 58ms/step - loss: 2.2910 - accuracy: 0.5433 - val_loss: 2.4785 - val_accuracy: 0.5149\n",
            "Epoch 61/200\n",
            "195/195 [==============================] - 11s 58ms/step - loss: 2.2560 - accuracy: 0.5526 - val_loss: 2.3332 - val_accuracy: 0.5508\n",
            "Epoch 62/200\n",
            "195/195 [==============================] - 11s 58ms/step - loss: 2.2050 - accuracy: 0.5669 - val_loss: 2.2989 - val_accuracy: 0.5651\n",
            "Epoch 63/200\n",
            "195/195 [==============================] - 11s 58ms/step - loss: 2.1209 - accuracy: 0.5821 - val_loss: 2.2974 - val_accuracy: 0.5645\n",
            "Epoch 64/200\n",
            "195/195 [==============================] - 11s 59ms/step - loss: 2.0935 - accuracy: 0.5950 - val_loss: 2.5630 - val_accuracy: 0.5227\n",
            "Epoch 65/200\n",
            "195/195 [==============================] - 11s 58ms/step - loss: 2.0793 - accuracy: 0.6017 - val_loss: 2.6004 - val_accuracy: 0.5215\n",
            "Epoch 66/200\n",
            "195/195 [==============================] - 11s 58ms/step - loss: 2.0438 - accuracy: 0.6068 - val_loss: 2.5442 - val_accuracy: 0.5235\n",
            "Epoch 67/200\n",
            "195/195 [==============================] - 11s 58ms/step - loss: 2.0466 - accuracy: 0.6113 - val_loss: 2.2713 - val_accuracy: 0.5739\n",
            "Epoch 68/200\n",
            "195/195 [==============================] - 11s 57ms/step - loss: 2.0145 - accuracy: 0.6203 - val_loss: 2.3249 - val_accuracy: 0.5777\n",
            "Epoch 69/200\n",
            "195/195 [==============================] - 11s 57ms/step - loss: 2.0695 - accuracy: 0.6073 - val_loss: 2.3236 - val_accuracy: 0.5804\n",
            "Epoch 70/200\n",
            "195/195 [==============================] - 11s 57ms/step - loss: 1.9813 - accuracy: 0.6328 - val_loss: 2.3111 - val_accuracy: 0.5792\n",
            "Epoch 71/200\n",
            "195/195 [==============================] - 11s 57ms/step - loss: 1.9387 - accuracy: 0.6398 - val_loss: 2.3042 - val_accuracy: 0.5893\n",
            "Epoch 72/200\n",
            "195/195 [==============================] - 11s 57ms/step - loss: 1.9465 - accuracy: 0.6421 - val_loss: 2.5184 - val_accuracy: 0.5424\n",
            "Epoch 73/200\n",
            "195/195 [==============================] - 11s 57ms/step - loss: 2.1667 - accuracy: 0.5972 - val_loss: 2.3692 - val_accuracy: 0.5684\n",
            "Epoch 74/200\n",
            "195/195 [==============================] - 11s 57ms/step - loss: 2.0463 - accuracy: 0.6218 - val_loss: 2.3465 - val_accuracy: 0.5797\n",
            "Epoch 75/200\n",
            "195/195 [==============================] - 11s 57ms/step - loss: 1.9497 - accuracy: 0.6482 - val_loss: 2.5808 - val_accuracy: 0.5455\n",
            "Epoch 76/200\n",
            "195/195 [==============================] - 11s 57ms/step - loss: 1.9614 - accuracy: 0.6484 - val_loss: 2.3299 - val_accuracy: 0.5874\n",
            "Epoch 77/200\n",
            "195/195 [==============================] - 11s 57ms/step - loss: 1.8581 - accuracy: 0.6732 - val_loss: 2.4673 - val_accuracy: 0.5664\n",
            "Epoch 78/200\n",
            "195/195 [==============================] - 11s 57ms/step - loss: 1.8595 - accuracy: 0.6720 - val_loss: 2.3713 - val_accuracy: 0.5865\n",
            "Epoch 79/200\n",
            "195/195 [==============================] - 11s 58ms/step - loss: 1.8840 - accuracy: 0.6661 - val_loss: 2.3264 - val_accuracy: 0.5941\n",
            "Epoch 80/200\n",
            "195/195 [==============================] - 11s 57ms/step - loss: 1.8688 - accuracy: 0.6746 - val_loss: 2.3493 - val_accuracy: 0.5971\n",
            "Epoch 81/200\n",
            "195/195 [==============================] - 11s 57ms/step - loss: 1.8216 - accuracy: 0.6886 - val_loss: 2.4366 - val_accuracy: 0.5841\n",
            "Epoch 82/200\n",
            "195/195 [==============================] - 11s 57ms/step - loss: 1.7939 - accuracy: 0.6919 - val_loss: 2.4209 - val_accuracy: 0.5939\n",
            "Epoch 83/200\n",
            "195/195 [==============================] - 11s 57ms/step - loss: 1.7857 - accuracy: 0.6958 - val_loss: 2.3343 - val_accuracy: 0.6080\n",
            "Epoch 84/200\n",
            "195/195 [==============================] - 11s 57ms/step - loss: 1.7550 - accuracy: 0.7065 - val_loss: 2.5351 - val_accuracy: 0.5753\n",
            "Epoch 85/200\n",
            "195/195 [==============================] - 11s 57ms/step - loss: 1.8215 - accuracy: 0.6912 - val_loss: 2.3943 - val_accuracy: 0.6011\n",
            "Epoch 86/200\n",
            "195/195 [==============================] - 11s 57ms/step - loss: 1.7555 - accuracy: 0.7076 - val_loss: 2.4444 - val_accuracy: 0.5971\n",
            "Epoch 87/200\n",
            "195/195 [==============================] - 11s 57ms/step - loss: 1.7754 - accuracy: 0.7025 - val_loss: 2.5670 - val_accuracy: 0.5658\n",
            "Epoch 88/200\n",
            "195/195 [==============================] - 11s 57ms/step - loss: 1.9244 - accuracy: 0.6729 - val_loss: 2.6136 - val_accuracy: 0.5458\n",
            "Epoch 89/200\n",
            "195/195 [==============================] - 11s 57ms/step - loss: 1.9758 - accuracy: 0.6636 - val_loss: 2.4895 - val_accuracy: 0.5797\n",
            "Epoch 90/200\n",
            "195/195 [==============================] - 11s 57ms/step - loss: 1.8279 - accuracy: 0.6961 - val_loss: 2.4936 - val_accuracy: 0.5916\n",
            "Epoch 91/200\n",
            "195/195 [==============================] - 11s 57ms/step - loss: 1.7886 - accuracy: 0.7094 - val_loss: 2.8998 - val_accuracy: 0.5190\n",
            "Epoch 92/200\n",
            "195/195 [==============================] - 11s 58ms/step - loss: 1.8504 - accuracy: 0.6948 - val_loss: 2.6277 - val_accuracy: 0.5626\n",
            "Epoch 93/200\n",
            "195/195 [==============================] - 11s 58ms/step - loss: 1.7919 - accuracy: 0.7113 - val_loss: 2.5569 - val_accuracy: 0.5840\n",
            "Epoch 94/200\n",
            "195/195 [==============================] - 11s 58ms/step - loss: 1.8228 - accuracy: 0.7022 - val_loss: 2.4539 - val_accuracy: 0.6094\n",
            "Epoch 95/200\n",
            "195/195 [==============================] - 11s 58ms/step - loss: 1.8174 - accuracy: 0.7079 - val_loss: 2.5857 - val_accuracy: 0.5947\n",
            "Epoch 96/200\n",
            "195/195 [==============================] - 11s 58ms/step - loss: 1.8037 - accuracy: 0.7162 - val_loss: 2.5898 - val_accuracy: 0.5840\n",
            "Epoch 97/200\n",
            "195/195 [==============================] - 11s 58ms/step - loss: 1.8675 - accuracy: 0.7024 - val_loss: 2.5243 - val_accuracy: 0.5967\n",
            "Epoch 98/200\n",
            "195/195 [==============================] - 11s 58ms/step - loss: 1.7861 - accuracy: 0.7194 - val_loss: 2.5115 - val_accuracy: 0.5975\n",
            "Epoch 99/200\n",
            "195/195 [==============================] - 11s 58ms/step - loss: 1.8879 - accuracy: 0.6983 - val_loss: 2.5569 - val_accuracy: 0.5970\n",
            "Epoch 100/200\n",
            "195/195 [==============================] - 11s 58ms/step - loss: 1.7924 - accuracy: 0.7226 - val_loss: 2.5188 - val_accuracy: 0.5991\n",
            "Epoch 101/200\n",
            "195/195 [==============================] - 11s 58ms/step - loss: 1.8010 - accuracy: 0.7211 - val_loss: 2.5172 - val_accuracy: 0.6138\n",
            "Epoch 102/200\n",
            "195/195 [==============================] - 11s 58ms/step - loss: 1.9768 - accuracy: 0.6825 - val_loss: 2.5247 - val_accuracy: 0.6065\n",
            "Epoch 103/200\n",
            "195/195 [==============================] - 11s 58ms/step - loss: 1.7282 - accuracy: 0.7400 - val_loss: 2.5189 - val_accuracy: 0.6115\n",
            "Epoch 104/200\n",
            "195/195 [==============================] - 11s 59ms/step - loss: 1.6954 - accuracy: 0.7475 - val_loss: 2.5761 - val_accuracy: 0.6091\n",
            "Epoch 105/200\n",
            "195/195 [==============================] - 11s 58ms/step - loss: 1.7063 - accuracy: 0.7527 - val_loss: 2.6381 - val_accuracy: 0.5803\n",
            "Epoch 106/200\n",
            "195/195 [==============================] - 11s 57ms/step - loss: 1.7777 - accuracy: 0.7342 - val_loss: 2.5335 - val_accuracy: 0.6081\n",
            "Epoch 107/200\n",
            "195/195 [==============================] - 11s 58ms/step - loss: 1.7609 - accuracy: 0.7391 - val_loss: 2.5849 - val_accuracy: 0.6067\n",
            "Epoch 108/200\n",
            "195/195 [==============================] - 11s 58ms/step - loss: 1.8500 - accuracy: 0.7211 - val_loss: 2.6369 - val_accuracy: 0.6013\n",
            "Epoch 109/200\n",
            "195/195 [==============================] - 11s 57ms/step - loss: 1.6991 - accuracy: 0.7567 - val_loss: 2.6253 - val_accuracy: 0.6007\n",
            "Epoch 110/200\n",
            "195/195 [==============================] - 11s 58ms/step - loss: 1.7330 - accuracy: 0.7523 - val_loss: 2.5471 - val_accuracy: 0.6122\n",
            "Epoch 111/200\n",
            "195/195 [==============================] - 11s 58ms/step - loss: 1.6673 - accuracy: 0.7646 - val_loss: 4.2739 - val_accuracy: 0.3806\n",
            "Epoch 112/200\n",
            "195/195 [==============================] - 11s 57ms/step - loss: 1.9598 - accuracy: 0.7035 - val_loss: 2.6382 - val_accuracy: 0.6004\n",
            "Epoch 113/200\n",
            "195/195 [==============================] - 11s 58ms/step - loss: 1.7891 - accuracy: 0.7414 - val_loss: 2.6198 - val_accuracy: 0.6011\n",
            "Epoch 114/200\n",
            "195/195 [==============================] - 11s 58ms/step - loss: 1.7431 - accuracy: 0.7542 - val_loss: 2.7041 - val_accuracy: 0.5927\n",
            "Epoch 115/200\n",
            "195/195 [==============================] - 11s 58ms/step - loss: 1.9049 - accuracy: 0.7185 - val_loss: 2.6173 - val_accuracy: 0.6067\n",
            "Epoch 116/200\n",
            "195/195 [==============================] - 11s 58ms/step - loss: 1.7710 - accuracy: 0.7484 - val_loss: 2.6026 - val_accuracy: 0.6134\n",
            "Epoch 117/200\n",
            "195/195 [==============================] - 11s 58ms/step - loss: 1.7297 - accuracy: 0.7615 - val_loss: 2.6198 - val_accuracy: 0.6197\n",
            "Epoch 118/200\n",
            "195/195 [==============================] - 11s 58ms/step - loss: 1.7183 - accuracy: 0.7671 - val_loss: 2.7054 - val_accuracy: 0.6000\n",
            "Epoch 119/200\n",
            "195/195 [==============================] - 11s 58ms/step - loss: 1.6879 - accuracy: 0.7739 - val_loss: 2.7324 - val_accuracy: 0.5955\n",
            "Epoch 120/200\n",
            "195/195 [==============================] - 11s 58ms/step - loss: 1.6713 - accuracy: 0.7795 - val_loss: 2.7054 - val_accuracy: 0.6128\n",
            "Epoch 121/200\n",
            "195/195 [==============================] - 11s 57ms/step - loss: 1.6885 - accuracy: 0.7758 - val_loss: 2.6326 - val_accuracy: 0.6166\n",
            "Epoch 122/200\n",
            "195/195 [==============================] - 11s 57ms/step - loss: 1.6897 - accuracy: 0.7819 - val_loss: 2.6948 - val_accuracy: 0.6092\n",
            "Epoch 123/200\n",
            "195/195 [==============================] - 11s 57ms/step - loss: 1.7170 - accuracy: 0.7711 - val_loss: 2.6979 - val_accuracy: 0.6115\n",
            "Epoch 124/200\n",
            "195/195 [==============================] - 11s 57ms/step - loss: 1.6539 - accuracy: 0.7888 - val_loss: 2.7222 - val_accuracy: 0.6133\n",
            "Epoch 125/200\n",
            "195/195 [==============================] - 11s 58ms/step - loss: 1.6571 - accuracy: 0.7889 - val_loss: 2.6807 - val_accuracy: 0.6141\n",
            "Epoch 126/200\n",
            "195/195 [==============================] - 11s 58ms/step - loss: 1.6453 - accuracy: 0.7923 - val_loss: 3.2157 - val_accuracy: 0.5108\n",
            "Epoch 127/200\n",
            "195/195 [==============================] - 11s 57ms/step - loss: 2.0237 - accuracy: 0.7024 - val_loss: 2.7427 - val_accuracy: 0.6000\n",
            "Epoch 128/200\n",
            "195/195 [==============================] - 11s 57ms/step - loss: 1.7217 - accuracy: 0.7761 - val_loss: 2.7411 - val_accuracy: 0.6087\n",
            "Epoch 129/200\n",
            "195/195 [==============================] - 11s 58ms/step - loss: 1.7768 - accuracy: 0.7664 - val_loss: 2.8113 - val_accuracy: 0.6046\n",
            "Epoch 130/200\n",
            "195/195 [==============================] - 11s 57ms/step - loss: 1.6909 - accuracy: 0.7889 - val_loss: 2.7322 - val_accuracy: 0.6129\n",
            "Epoch 131/200\n",
            "195/195 [==============================] - 11s 58ms/step - loss: 1.6957 - accuracy: 0.7867 - val_loss: 2.7698 - val_accuracy: 0.6242\n",
            "Epoch 132/200\n",
            "195/195 [==============================] - 11s 58ms/step - loss: 1.8056 - accuracy: 0.7632 - val_loss: 2.7900 - val_accuracy: 0.6088\n",
            "Epoch 133/200\n",
            "195/195 [==============================] - 11s 57ms/step - loss: 1.6726 - accuracy: 0.7973 - val_loss: 2.7469 - val_accuracy: 0.6181\n",
            "Epoch 134/200\n",
            "195/195 [==============================] - 11s 57ms/step - loss: 1.7048 - accuracy: 0.7909 - val_loss: 3.3193 - val_accuracy: 0.5025\n",
            "Epoch 135/200\n",
            "195/195 [==============================] - 11s 58ms/step - loss: 1.8835 - accuracy: 0.7483 - val_loss: 2.7310 - val_accuracy: 0.6168\n",
            "Epoch 136/200\n",
            "195/195 [==============================] - 11s 58ms/step - loss: 1.7212 - accuracy: 0.7888 - val_loss: 3.0119 - val_accuracy: 0.5860\n",
            "Epoch 137/200\n",
            "195/195 [==============================] - 11s 58ms/step - loss: 1.7660 - accuracy: 0.7761 - val_loss: 2.9559 - val_accuracy: 0.5930\n",
            "Epoch 138/200\n",
            "195/195 [==============================] - 11s 58ms/step - loss: 1.6481 - accuracy: 0.8080 - val_loss: 2.9321 - val_accuracy: 0.5925\n",
            "Epoch 139/200\n",
            "195/195 [==============================] - 11s 57ms/step - loss: 1.6838 - accuracy: 0.8007 - val_loss: 2.8397 - val_accuracy: 0.6114\n",
            "Epoch 140/200\n",
            "195/195 [==============================] - 11s 57ms/step - loss: 1.6958 - accuracy: 0.7984 - val_loss: 2.8359 - val_accuracy: 0.6085\n",
            "Epoch 141/200\n",
            "195/195 [==============================] - 11s 57ms/step - loss: 1.6821 - accuracy: 0.8036 - val_loss: 2.7802 - val_accuracy: 0.6227\n",
            "Epoch 142/200\n",
            "195/195 [==============================] - 11s 58ms/step - loss: 1.6382 - accuracy: 0.8119 - val_loss: 3.3433 - val_accuracy: 0.5428\n",
            "Epoch 143/200\n",
            "195/195 [==============================] - 11s 58ms/step - loss: 1.7158 - accuracy: 0.7943 - val_loss: 2.8867 - val_accuracy: 0.6103\n",
            "Epoch 144/200\n",
            "195/195 [==============================] - 11s 58ms/step - loss: 1.6775 - accuracy: 0.8039 - val_loss: 2.8449 - val_accuracy: 0.6135\n",
            "Epoch 145/200\n",
            "195/195 [==============================] - 11s 57ms/step - loss: 1.6693 - accuracy: 0.8073 - val_loss: 2.8390 - val_accuracy: 0.6280\n",
            "Epoch 146/200\n",
            "195/195 [==============================] - 11s 57ms/step - loss: 1.6030 - accuracy: 0.8263 - val_loss: 2.8058 - val_accuracy: 0.6314\n",
            "Epoch 147/200\n",
            "195/195 [==============================] - 11s 57ms/step - loss: 1.5847 - accuracy: 0.8294 - val_loss: 3.1019 - val_accuracy: 0.5914\n",
            "Epoch 148/200\n",
            "195/195 [==============================] - 11s 58ms/step - loss: 1.6153 - accuracy: 0.8239 - val_loss: 2.9652 - val_accuracy: 0.6113\n",
            "Epoch 149/200\n",
            "195/195 [==============================] - 11s 58ms/step - loss: 1.6076 - accuracy: 0.8265 - val_loss: 2.8753 - val_accuracy: 0.6165\n",
            "Epoch 150/200\n",
            "195/195 [==============================] - 11s 57ms/step - loss: 1.6200 - accuracy: 0.8221 - val_loss: 2.9159 - val_accuracy: 0.6150\n",
            "Epoch 151/200\n",
            "195/195 [==============================] - 11s 58ms/step - loss: 1.5761 - accuracy: 0.8344 - val_loss: 2.9363 - val_accuracy: 0.6122\n",
            "Epoch 152/200\n",
            "195/195 [==============================] - 11s 58ms/step - loss: 1.5733 - accuracy: 0.8368 - val_loss: 2.9519 - val_accuracy: 0.6190\n",
            "Epoch 153/200\n",
            "195/195 [==============================] - 11s 58ms/step - loss: 1.6020 - accuracy: 0.8303 - val_loss: 2.8944 - val_accuracy: 0.6171\n",
            "Epoch 154/200\n",
            "195/195 [==============================] - 11s 57ms/step - loss: 1.6853 - accuracy: 0.8123 - val_loss: 2.8715 - val_accuracy: 0.6234\n",
            "Epoch 155/200\n",
            "195/195 [==============================] - 11s 58ms/step - loss: 1.5923 - accuracy: 0.8333 - val_loss: 2.8358 - val_accuracy: 0.6253\n",
            "Epoch 156/200\n",
            "195/195 [==============================] - 11s 57ms/step - loss: 1.5408 - accuracy: 0.8475 - val_loss: 3.1985 - val_accuracy: 0.5834\n",
            "Epoch 157/200\n",
            "195/195 [==============================] - 11s 58ms/step - loss: 1.5978 - accuracy: 0.8334 - val_loss: 2.9806 - val_accuracy: 0.5880\n",
            "Epoch 158/200\n",
            "195/195 [==============================] - 11s 58ms/step - loss: 1.8675 - accuracy: 0.7719 - val_loss: 3.2809 - val_accuracy: 0.5045\n",
            "Epoch 159/200\n",
            "195/195 [==============================] - 11s 57ms/step - loss: 1.9275 - accuracy: 0.7542 - val_loss: 2.9029 - val_accuracy: 0.6074\n",
            "Epoch 160/200\n",
            "195/195 [==============================] - 11s 57ms/step - loss: 1.7368 - accuracy: 0.8044 - val_loss: 2.9201 - val_accuracy: 0.6103\n",
            "Epoch 161/200\n",
            "195/195 [==============================] - 11s 57ms/step - loss: 1.6690 - accuracy: 0.8202 - val_loss: 2.9372 - val_accuracy: 0.6183\n",
            "Epoch 162/200\n",
            "195/195 [==============================] - 11s 57ms/step - loss: 1.6228 - accuracy: 0.8300 - val_loss: 2.9206 - val_accuracy: 0.6119\n",
            "Epoch 163/200\n",
            "195/195 [==============================] - 11s 58ms/step - loss: 1.5996 - accuracy: 0.8418 - val_loss: 2.9306 - val_accuracy: 0.6298\n",
            "Epoch 164/200\n",
            "195/195 [==============================] - 11s 58ms/step - loss: 1.6024 - accuracy: 0.8397 - val_loss: 3.1325 - val_accuracy: 0.5661\n",
            "Epoch 165/200\n",
            "195/195 [==============================] - 11s 57ms/step - loss: 1.7195 - accuracy: 0.8111 - val_loss: 3.9906 - val_accuracy: 0.4448\n",
            "Epoch 166/200\n",
            "195/195 [==============================] - 11s 57ms/step - loss: 1.9753 - accuracy: 0.7462 - val_loss: 3.8868 - val_accuracy: 0.4715\n",
            "Epoch 167/200\n",
            "195/195 [==============================] - 11s 58ms/step - loss: 1.7731 - accuracy: 0.8011 - val_loss: 2.9127 - val_accuracy: 0.6163\n",
            "Epoch 168/200\n",
            "195/195 [==============================] - 11s 57ms/step - loss: 1.7116 - accuracy: 0.8190 - val_loss: 2.9633 - val_accuracy: 0.6011\n",
            "Epoch 169/200\n",
            "195/195 [==============================] - 11s 58ms/step - loss: 1.6649 - accuracy: 0.8284 - val_loss: 2.9844 - val_accuracy: 0.6245\n",
            "Epoch 170/200\n",
            "195/195 [==============================] - 11s 58ms/step - loss: 1.6025 - accuracy: 0.8459 - val_loss: 3.6476 - val_accuracy: 0.4440\n",
            "Epoch 171/200\n",
            "195/195 [==============================] - 11s 57ms/step - loss: 1.9779 - accuracy: 0.7525 - val_loss: 2.9842 - val_accuracy: 0.6225\n",
            "Epoch 172/200\n",
            "195/195 [==============================] - 11s 57ms/step - loss: 1.6587 - accuracy: 0.8358 - val_loss: 2.9184 - val_accuracy: 0.6245\n",
            "Epoch 173/200\n",
            "195/195 [==============================] - 11s 58ms/step - loss: 1.6145 - accuracy: 0.8469 - val_loss: 3.1571 - val_accuracy: 0.5933\n",
            "Epoch 174/200\n",
            "195/195 [==============================] - 11s 57ms/step - loss: 1.8832 - accuracy: 0.7791 - val_loss: 2.9715 - val_accuracy: 0.5803\n",
            "Epoch 175/200\n",
            "195/195 [==============================] - 11s 58ms/step - loss: 1.8140 - accuracy: 0.7991 - val_loss: 3.0688 - val_accuracy: 0.6028\n",
            "Epoch 176/200\n",
            "195/195 [==============================] - 11s 58ms/step - loss: 1.7035 - accuracy: 0.8260 - val_loss: 3.0127 - val_accuracy: 0.6137\n",
            "Epoch 177/200\n",
            "195/195 [==============================] - 11s 57ms/step - loss: 1.7941 - accuracy: 0.8088 - val_loss: 3.0408 - val_accuracy: 0.5781\n",
            "Epoch 178/200\n",
            "195/195 [==============================] - 11s 58ms/step - loss: 1.9481 - accuracy: 0.7667 - val_loss: 2.9725 - val_accuracy: 0.6147\n",
            "Epoch 179/200\n",
            "195/195 [==============================] - 11s 58ms/step - loss: 1.7465 - accuracy: 0.8205 - val_loss: 2.9618 - val_accuracy: 0.6173\n",
            "Epoch 180/200\n",
            "195/195 [==============================] - 11s 57ms/step - loss: 1.6817 - accuracy: 0.8391 - val_loss: 2.9842 - val_accuracy: 0.6202\n",
            "Epoch 181/200\n",
            "195/195 [==============================] - 11s 57ms/step - loss: 1.6550 - accuracy: 0.8457 - val_loss: 3.1880 - val_accuracy: 0.5876\n",
            "Epoch 182/200\n",
            "195/195 [==============================] - 11s 58ms/step - loss: 1.7954 - accuracy: 0.8100 - val_loss: 2.9286 - val_accuracy: 0.6166\n",
            "Epoch 183/200\n",
            "195/195 [==============================] - 11s 58ms/step - loss: 1.7636 - accuracy: 0.8158 - val_loss: 2.9786 - val_accuracy: 0.6128\n",
            "Epoch 184/200\n",
            "195/195 [==============================] - 11s 58ms/step - loss: 1.8096 - accuracy: 0.8091 - val_loss: 3.0487 - val_accuracy: 0.6115\n",
            "Epoch 185/200\n",
            "195/195 [==============================] - 11s 58ms/step - loss: 1.6752 - accuracy: 0.8428 - val_loss: 3.0378 - val_accuracy: 0.6160\n",
            "Epoch 186/200\n",
            "195/195 [==============================] - 11s 58ms/step - loss: 1.7100 - accuracy: 0.8339 - val_loss: 3.0173 - val_accuracy: 0.6146\n",
            "Epoch 187/200\n",
            "195/195 [==============================] - 11s 58ms/step - loss: 1.6835 - accuracy: 0.8416 - val_loss: 3.0086 - val_accuracy: 0.6251\n",
            "Epoch 188/200\n",
            "195/195 [==============================] - 11s 57ms/step - loss: 1.6330 - accuracy: 0.8532 - val_loss: 3.5032 - val_accuracy: 0.5557\n",
            "Epoch 189/200\n",
            "195/195 [==============================] - 11s 58ms/step - loss: 1.6693 - accuracy: 0.8434 - val_loss: 3.1932 - val_accuracy: 0.5958\n",
            "Epoch 190/200\n",
            "195/195 [==============================] - 11s 58ms/step - loss: 1.6209 - accuracy: 0.8576 - val_loss: 3.0468 - val_accuracy: 0.6269\n",
            "Epoch 191/200\n",
            "195/195 [==============================] - 11s 58ms/step - loss: 1.6242 - accuracy: 0.8549 - val_loss: 3.0556 - val_accuracy: 0.6150\n",
            "Epoch 192/200\n",
            "195/195 [==============================] - 11s 57ms/step - loss: 1.6362 - accuracy: 0.8544 - val_loss: 3.0055 - val_accuracy: 0.6191\n",
            "Epoch 193/200\n",
            "195/195 [==============================] - 11s 58ms/step - loss: 1.5935 - accuracy: 0.8640 - val_loss: 3.1850 - val_accuracy: 0.5939\n",
            "Epoch 194/200\n",
            "195/195 [==============================] - 11s 57ms/step - loss: 1.6453 - accuracy: 0.8480 - val_loss: 3.0532 - val_accuracy: 0.6217\n",
            "Epoch 195/200\n",
            "195/195 [==============================] - 11s 58ms/step - loss: 1.6127 - accuracy: 0.8564 - val_loss: 3.0546 - val_accuracy: 0.6119\n",
            "Epoch 196/200\n",
            "195/195 [==============================] - 11s 58ms/step - loss: 1.5922 - accuracy: 0.8638 - val_loss: 3.1148 - val_accuracy: 0.5973\n",
            "Epoch 197/200\n",
            "195/195 [==============================] - 11s 58ms/step - loss: 1.6364 - accuracy: 0.8524 - val_loss: 3.0293 - val_accuracy: 0.6244\n",
            "Epoch 198/200\n",
            "195/195 [==============================] - 11s 57ms/step - loss: 1.5699 - accuracy: 0.8710 - val_loss: 3.1673 - val_accuracy: 0.6128\n",
            "Epoch 199/200\n",
            "195/195 [==============================] - 11s 58ms/step - loss: 1.6284 - accuracy: 0.8564 - val_loss: 3.0602 - val_accuracy: 0.6228\n",
            "Epoch 200/200\n",
            "195/195 [==============================] - 11s 57ms/step - loss: 1.6040 - accuracy: 0.8653 - val_loss: 3.0150 - val_accuracy: 0.6290\n"
          ],
          "name": "stdout"
        },
        {
          "output_type": "execute_result",
          "data": {
            "text/plain": [
              "<tensorflow.python.keras.callbacks.History at 0x7f4ef8998d50>"
            ]
          },
          "metadata": {
            "tags": []
          },
          "execution_count": 35
        }
      ]
    },
    {
      "cell_type": "markdown",
      "metadata": {
        "id": "0UbhQho0TU96"
      },
      "source": [
        "In evaluation, how effectively does the model makes predictions is determined.Test dataset is used for this.The model only evaluates a single epoch unlike training."
      ]
    },
    {
      "cell_type": "code",
      "metadata": {
        "id": "OL0b-L2dcefL",
        "execution": {
          "iopub.status.busy": "2021-08-02T19:39:03.802801Z",
          "iopub.execute_input": "2021-08-02T19:39:03.803115Z",
          "iopub.status.idle": "2021-08-02T19:39:06.385961Z",
          "shell.execute_reply.started": "2021-08-02T19:39:03.803086Z",
          "shell.execute_reply": "2021-08-02T19:39:06.385135Z"
        },
        "trusted": true,
        "outputId": "33389504-9e31-49ab-a23f-c8445a84eeaa"
      },
      "source": [
        "# model evaluation\n",
        "test_loss, test_acc = model.evaluate(x_test, y_test)"
      ],
      "execution_count": null,
      "outputs": [
        {
          "output_type": "stream",
          "text": [
            "313/313 [==============================] - 2s 8ms/step - loss: 3.0150 - accuracy: 0.6290\n"
          ],
          "name": "stdout"
        }
      ]
    },
    {
      "cell_type": "markdown",
      "metadata": {
        "id": "dNZIOmjeY9bC"
      },
      "source": [
        "Accuracy of the model can be increased by changing hyperparamers and adding data augmentation.\n",
        "<!--  -->"
      ]
    },
    {
      "cell_type": "code",
      "metadata": {
        "id": "6y9TENGniSlY",
        "execution": {
          "iopub.status.busy": "2021-08-02T19:39:23.155296Z",
          "iopub.execute_input": "2021-08-02T19:39:23.155641Z",
          "iopub.status.idle": "2021-08-02T19:39:23.180089Z",
          "shell.execute_reply.started": "2021-08-02T19:39:23.155610Z",
          "shell.execute_reply": "2021-08-02T19:39:23.179342Z"
        },
        "trusted": true,
        "outputId": "ad36c2fc-a1d2-49bd-b847-647b7cda9dd7"
      },
      "source": [
        "# summary of the model\n",
        "model.summary()"
      ],
      "execution_count": null,
      "outputs": [
        {
          "output_type": "stream",
          "text": [
            "Model: \"sequential_5\"\n",
            "_________________________________________________________________\n",
            "Layer (type)                 Output Shape              Param #   \n",
            "=================================================================\n",
            "sequential_2 (Sequential)    (None, 32, 32, 3)         0         \n",
            "_________________________________________________________________\n",
            "conv2d_39 (Conv2D)           (None, 32, 32, 32)        2432      \n",
            "_________________________________________________________________\n",
            "batch_normalization_33 (Batc (None, 32, 32, 32)        128       \n",
            "_________________________________________________________________\n",
            "conv2d_40 (Conv2D)           (None, 32, 32, 32)        9248      \n",
            "_________________________________________________________________\n",
            "max_pooling2d_15 (MaxPooling (None, 16, 16, 32)        0         \n",
            "_________________________________________________________________\n",
            "dropout_27 (Dropout)         (None, 16, 16, 32)        0         \n",
            "_________________________________________________________________\n",
            "conv2d_41 (Conv2D)           (None, 16, 16, 128)       36992     \n",
            "_________________________________________________________________\n",
            "conv2d_42 (Conv2D)           (None, 16, 16, 128)       147584    \n",
            "_________________________________________________________________\n",
            "batch_normalization_34 (Batc (None, 16, 16, 128)       512       \n",
            "_________________________________________________________________\n",
            "max_pooling2d_16 (MaxPooling (None, 8, 8, 128)         0         \n",
            "_________________________________________________________________\n",
            "conv2d_43 (Conv2D)           (None, 8, 8, 256)         295168    \n",
            "_________________________________________________________________\n",
            "batch_normalization_35 (Batc (None, 8, 8, 256)         1024      \n",
            "_________________________________________________________________\n",
            "dropout_28 (Dropout)         (None, 8, 8, 256)         0         \n",
            "_________________________________________________________________\n",
            "conv2d_44 (Conv2D)           (None, 8, 8, 256)         590080    \n",
            "_________________________________________________________________\n",
            "batch_normalization_36 (Batc (None, 8, 8, 256)         1024      \n",
            "_________________________________________________________________\n",
            "dropout_29 (Dropout)         (None, 8, 8, 256)         0         \n",
            "_________________________________________________________________\n",
            "conv2d_45 (Conv2D)           (None, 8, 8, 256)         590080    \n",
            "_________________________________________________________________\n",
            "batch_normalization_37 (Batc (None, 8, 8, 256)         1024      \n",
            "_________________________________________________________________\n",
            "max_pooling2d_17 (MaxPooling (None, 4, 4, 256)         0         \n",
            "_________________________________________________________________\n",
            "conv2d_46 (Conv2D)           (None, 4, 4, 512)         1180160   \n",
            "_________________________________________________________________\n",
            "batch_normalization_38 (Batc (None, 4, 4, 512)         2048      \n",
            "_________________________________________________________________\n",
            "dropout_30 (Dropout)         (None, 4, 4, 512)         0         \n",
            "_________________________________________________________________\n",
            "conv2d_47 (Conv2D)           (None, 4, 4, 512)         2359808   \n",
            "_________________________________________________________________\n",
            "batch_normalization_39 (Batc (None, 4, 4, 512)         2048      \n",
            "_________________________________________________________________\n",
            "dropout_31 (Dropout)         (None, 4, 4, 512)         0         \n",
            "_________________________________________________________________\n",
            "conv2d_48 (Conv2D)           (None, 4, 4, 512)         2359808   \n",
            "_________________________________________________________________\n",
            "batch_normalization_40 (Batc (None, 4, 4, 512)         2048      \n",
            "_________________________________________________________________\n",
            "max_pooling2d_18 (MaxPooling (None, 2, 2, 512)         0         \n",
            "_________________________________________________________________\n",
            "conv2d_49 (Conv2D)           (None, 2, 2, 512)         2359808   \n",
            "_________________________________________________________________\n",
            "batch_normalization_41 (Batc (None, 2, 2, 512)         2048      \n",
            "_________________________________________________________________\n",
            "dropout_32 (Dropout)         (None, 2, 2, 512)         0         \n",
            "_________________________________________________________________\n",
            "conv2d_50 (Conv2D)           (None, 2, 2, 512)         2359808   \n",
            "_________________________________________________________________\n",
            "batch_normalization_42 (Batc (None, 2, 2, 512)         2048      \n",
            "_________________________________________________________________\n",
            "dropout_33 (Dropout)         (None, 2, 2, 512)         0         \n",
            "_________________________________________________________________\n",
            "conv2d_51 (Conv2D)           (None, 2, 2, 512)         2359808   \n",
            "_________________________________________________________________\n",
            "batch_normalization_43 (Batc (None, 2, 2, 512)         2048      \n",
            "_________________________________________________________________\n",
            "max_pooling2d_19 (MaxPooling (None, 1, 1, 512)         0         \n",
            "_________________________________________________________________\n",
            "dropout_34 (Dropout)         (None, 1, 1, 512)         0         \n",
            "_________________________________________________________________\n",
            "flatten_3 (Flatten)          (None, 512)               0         \n",
            "_________________________________________________________________\n",
            "dense_6 (Dense)              (None, 512)               262656    \n",
            "_________________________________________________________________\n",
            "dropout_35 (Dropout)         (None, 512)               0         \n",
            "_________________________________________________________________\n",
            "dense_7 (Dense)              (None, 100)               51300     \n",
            "=================================================================\n",
            "Total params: 14,980,740\n",
            "Trainable params: 14,972,740\n",
            "Non-trainable params: 8,000\n",
            "_________________________________________________________________\n"
          ],
          "name": "stdout"
        }
      ]
    },
    {
      "cell_type": "markdown",
      "metadata": {
        "id": "Kk_soAe18CCT"
      },
      "source": [
        "## **Prediction**"
      ]
    },
    {
      "cell_type": "code",
      "metadata": {
        "id": "pX6_yh3Hjzpv",
        "execution": {
          "iopub.status.busy": "2021-08-02T19:41:32.224078Z",
          "iopub.execute_input": "2021-08-02T19:41:32.224496Z",
          "iopub.status.idle": "2021-08-02T19:41:32.475207Z",
          "shell.execute_reply.started": "2021-08-02T19:41:32.224460Z",
          "shell.execute_reply": "2021-08-02T19:41:32.474272Z"
        },
        "trusted": true,
        "outputId": "ecaa9d91-17d5-498d-b793-22ef2345a1fd"
      },
      "source": [
        "# random image for prediction\n",
        "test_index = np.random.randint(0,10000)\n",
        "plt.imshow(x_test[test_index])\n",
        "labels[int(y_test[test_index])]"
      ],
      "execution_count": null,
      "outputs": [
        {
          "output_type": "execute_result",
          "data": {
            "text/plain": [
              "'trout'"
            ]
          },
          "metadata": {
            "tags": []
          },
          "execution_count": 46
        },
        {
          "output_type": "display_data",
          "data": {
            "text/plain": [
              "<Figure size 432x288 with 1 Axes>"
            ],
            "image/png": "[encoded data removed]"
          },
          "metadata": {
            "tags": [],
            "needs_background": "light"
          }
        }
      ]
    },
    {
      "cell_type": "code",
      "metadata": {
        "id": "u2Xjd7qnj49x",
        "execution": {
          "iopub.status.busy": "2021-08-02T19:41:43.507006Z",
          "iopub.execute_input": "2021-08-02T19:41:43.507495Z",
          "iopub.status.idle": "2021-08-02T19:41:45.392173Z",
          "shell.execute_reply.started": "2021-08-02T19:41:43.507448Z",
          "shell.execute_reply": "2021-08-02T19:41:45.390682Z"
        },
        "trusted": true,
        "outputId": "b56076da-11f3-41a3-f3ac-604239803337"
      },
      "source": [
        "# prediction\n",
        "pred = model.predict(x_test)\n",
        "# print(pred[test_index])\n",
        "print('\\npredicted label:',labels[np.argmax(pred[test_index])])\n"
      ],
      "execution_count": null,
      "outputs": [
        {
          "output_type": "stream",
          "text": [
            "\n",
            "predicted label: trout\n"
          ],
          "name": "stdout"
        }
      ]
    }
  ]
}