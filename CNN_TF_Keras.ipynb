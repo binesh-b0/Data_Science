{
  "nbformat": 4,
  "nbformat_minor": 0,
  "metadata": {
    "colab": {
      "provenance": [],
      "authorship_tag": "ABX9TyM9dScMLkEzvDdadsnNXTrv",
      "include_colab_link": true
    },
    "kernelspec": {
      "name": "python3",
      "display_name": "Python 3"
    },
    "language_info": {
      "name": "python"
    },
    "accelerator": "GPU",
    "gpuClass": "standard"
  },
  "cells": [
    {
      "cell_type": "markdown",
      "metadata": {
        "id": "view-in-github",
        "colab_type": "text"
      },
      "source": [
        "<a href=\"https://colab.research.google.com/github/binesh-b0/Data_Science/blob/main/CNN_TF_Keras.ipynb\" target=\"_parent\"><img src=\"https://colab.research.google.com/assets/colab-badge.svg\" alt=\"Open In Colab\"/></a>"
      ]
    },
    {
      "cell_type": "markdown",
      "source": [
        "# CNN"
      ],
      "metadata": {
        "id": "CGWhJjczlEr9"
      }
    },
    {
      "cell_type": "markdown",
      "source": [
        "CIFAR-10 dataset"
      ],
      "metadata": {
        "id": "YmM4e4yhmLfs"
      }
    },
    {
      "cell_type": "code",
      "execution_count": null,
      "metadata": {
        "id": "66mjComxk-zk"
      },
      "outputs": [],
      "source": [
        "# import tensorflow\n",
        "import tensorflow as tf\n",
        "from tensorflow.keras import datasets,models,layers\n",
        "import matplotlib.pyplot as plt\n",
        "from tensorflow import keras\n",
        "import numpy as np"
      ]
    },
    {
      "cell_type": "code",
      "source": [
        "# download daatset\n",
        "(x_train, y_train), (x_test, y_test) = keras.datasets.cifar10.load_data()"
      ],
      "metadata": {
        "id": "l25sX_NMlVP6"
      },
      "execution_count": null,
      "outputs": []
    },
    {
      "cell_type": "code",
      "source": [
        "# normalizing\n",
        "x_train = x_train/255.0\n",
        "x_test = x_test/255.0"
      ],
      "metadata": {
        "id": "85jDQuielhoA"
      },
      "execution_count": null,
      "outputs": []
    },
    {
      "cell_type": "code",
      "source": [],
      "metadata": {
        "id": "-NYOXniOqH4E"
      },
      "execution_count": null,
      "outputs": []
    },
    {
      "cell_type": "markdown",
      "source": [
        "convolution model"
      ],
      "metadata": {
        "id": "DRXmyMTtqIYK"
      }
    },
    {
      "cell_type": "code",
      "source": [
        "# basic cnn model - feature extraction\n",
        "model = models.Sequential()\n",
        "model.add(layers.Conv2D(32,(3,3),activation='relu',input_shape = (32,32,3)))\n",
        "model.add(layers.MaxPooling2D(2,2))\n",
        "\n",
        "model.add(layers.Conv2D(64,(3,3),activation='relu'))\n",
        "model.add(layers.MaxPooling2D(2,2))\n",
        "\n",
        "model.add(layers.MaxPooling2D((2, 2)))\n",
        "model.add(layers.Conv2D(64, (3, 3), activation='relu'))"
      ],
      "metadata": {
        "id": "wQbS7jmZqLqY"
      },
      "execution_count": null,
      "outputs": []
    },
    {
      "cell_type": "code",
      "source": [
        "# add dense layers to classify\n",
        "model.add(layers.Flatten())\n",
        "model.add(layers.Dense(64,activation='relu'))\n",
        "model.add(layers.Dense(10,activation='softmax'))"
      ],
      "metadata": {
        "id": "bG6d4pIjytmm"
      },
      "execution_count": null,
      "outputs": []
    },
    {
      "cell_type": "code",
      "source": [
        "model.summary()"
      ],
      "metadata": {
        "colab": {
          "base_uri": "https://localhost:8080/"
        },
        "id": "JD6l4y_3rNlK",
        "outputId": "aa8bfebd-3aa6-4c17-ce68-d6a033db2a9c"
      },
      "execution_count": null,
      "outputs": [
        {
          "output_type": "stream",
          "name": "stdout",
          "text": [
            "Model: \"sequential_2\"\n",
            "_________________________________________________________________\n",
            " Layer (type)                Output Shape              Param #   \n",
            "=================================================================\n",
            " conv2d_4 (Conv2D)           (None, 30, 30, 32)        896       \n",
            "                                                                 \n",
            " max_pooling2d_4 (MaxPooling  (None, 15, 15, 32)       0         \n",
            " 2D)                                                             \n",
            "                                                                 \n",
            " conv2d_5 (Conv2D)           (None, 13, 13, 64)        18496     \n",
            "                                                                 \n",
            " max_pooling2d_5 (MaxPooling  (None, 6, 6, 64)         0         \n",
            " 2D)                                                             \n",
            "                                                                 \n",
            " max_pooling2d_6 (MaxPooling  (None, 3, 3, 64)         0         \n",
            " 2D)                                                             \n",
            "                                                                 \n",
            " conv2d_6 (Conv2D)           (None, 1, 1, 64)          36928     \n",
            "                                                                 \n",
            " flatten_2 (Flatten)         (None, 64)                0         \n",
            "                                                                 \n",
            " dense_4 (Dense)             (None, 64)                4160      \n",
            "                                                                 \n",
            " dense_5 (Dense)             (None, 10)                650       \n",
            "                                                                 \n",
            "=================================================================\n",
            "Total params: 61,130\n",
            "Trainable params: 61,130\n",
            "Non-trainable params: 0\n",
            "_________________________________________________________________\n"
          ]
        }
      ]
    },
    {
      "cell_type": "code",
      "source": [
        "model.compile(optimizer='adam',loss=keras.losses.SparseCategoricalCrossentropy(),\n",
        "              metrics=['accuracy'])"
      ],
      "metadata": {
        "id": "sNN_wO0avM72"
      },
      "execution_count": null,
      "outputs": []
    },
    {
      "cell_type": "code",
      "source": [
        "es = tf.keras.callbacks.EarlyStopping(monitor='val_loss',mode=\"auto\", patience=3)\n",
        "\n",
        "mc = tf.keras.callbacks.ModelCheckpoint('best_model.h5',\n",
        "    monitor='val_accuracy',\n",
        "    mode='max',\n",
        "    save_best_only=True)\n",
        "\n",
        "history = model.fit(x_train,y_train,\n",
        "                    epochs=50,\n",
        "                    validation_split=0.2,\n",
        "                    callbacks=[es,mc],\n",
        "                    verbose=2)"
      ],
      "metadata": {
        "colab": {
          "base_uri": "https://localhost:8080/"
        },
        "id": "RM00T41K17Su",
        "outputId": "a3ffd697-8263-4034-85b4-a5b31e998384"
      },
      "execution_count": null,
      "outputs": [
        {
          "output_type": "stream",
          "name": "stdout",
          "text": [
            "Epoch 1/50\n",
            "1250/1250 - 62s - loss: 1.5896 - accuracy: 0.4101 - val_loss: 1.3347 - val_accuracy: 0.5232 - 62s/epoch - 49ms/step\n",
            "Epoch 2/50\n",
            "1250/1250 - 5s - loss: 1.2348 - accuracy: 0.5592 - val_loss: 1.1618 - val_accuracy: 0.5864 - 5s/epoch - 4ms/step\n",
            "Epoch 3/50\n",
            "1250/1250 - 5s - loss: 1.0855 - accuracy: 0.6154 - val_loss: 1.0448 - val_accuracy: 0.6351 - 5s/epoch - 4ms/step\n",
            "Epoch 4/50\n",
            "1250/1250 - 5s - loss: 0.9928 - accuracy: 0.6500 - val_loss: 1.0027 - val_accuracy: 0.6515 - 5s/epoch - 4ms/step\n",
            "Epoch 5/50\n",
            "1250/1250 - 4s - loss: 0.9390 - accuracy: 0.6686 - val_loss: 1.0835 - val_accuracy: 0.6220 - 4s/epoch - 3ms/step\n",
            "Epoch 6/50\n",
            "1250/1250 - 5s - loss: 0.8840 - accuracy: 0.6909 - val_loss: 0.9510 - val_accuracy: 0.6734 - 5s/epoch - 4ms/step\n",
            "Epoch 7/50\n",
            "1250/1250 - 4s - loss: 0.8411 - accuracy: 0.7059 - val_loss: 0.9753 - val_accuracy: 0.6649 - 4s/epoch - 3ms/step\n",
            "Epoch 8/50\n",
            "1250/1250 - 4s - loss: 0.8094 - accuracy: 0.7179 - val_loss: 0.9826 - val_accuracy: 0.6620 - 4s/epoch - 3ms/step\n",
            "Epoch 9/50\n",
            "1250/1250 - 5s - loss: 0.7763 - accuracy: 0.7288 - val_loss: 0.9194 - val_accuracy: 0.6874 - 5s/epoch - 4ms/step\n",
            "Epoch 10/50\n",
            "1250/1250 - 5s - loss: 0.7442 - accuracy: 0.7419 - val_loss: 0.8960 - val_accuracy: 0.6946 - 5s/epoch - 4ms/step\n",
            "Epoch 11/50\n",
            "1250/1250 - 5s - loss: 0.7212 - accuracy: 0.7473 - val_loss: 0.9300 - val_accuracy: 0.6841 - 5s/epoch - 4ms/step\n",
            "Epoch 12/50\n",
            "1250/1250 - 5s - loss: 0.6974 - accuracy: 0.7538 - val_loss: 0.9650 - val_accuracy: 0.6780 - 5s/epoch - 4ms/step\n",
            "Epoch 13/50\n",
            "1250/1250 - 4s - loss: 0.6796 - accuracy: 0.7640 - val_loss: 0.8909 - val_accuracy: 0.7005 - 4s/epoch - 3ms/step\n",
            "Epoch 14/50\n",
            "1250/1250 - 4s - loss: 0.6538 - accuracy: 0.7700 - val_loss: 0.9078 - val_accuracy: 0.7037 - 4s/epoch - 3ms/step\n",
            "Epoch 15/50\n",
            "1250/1250 - 4s - loss: 0.6377 - accuracy: 0.7749 - val_loss: 0.9556 - val_accuracy: 0.6860 - 4s/epoch - 3ms/step\n",
            "Epoch 16/50\n",
            "1250/1250 - 4s - loss: 0.6193 - accuracy: 0.7843 - val_loss: 0.9114 - val_accuracy: 0.7058 - 4s/epoch - 3ms/step\n"
          ]
        }
      ]
    },
    {
      "cell_type": "code",
      "source": [
        "model.evaluate(x_test,y_test)"
      ],
      "metadata": {
        "colab": {
          "base_uri": "https://localhost:8080/"
        },
        "id": "puzdM-Tr2XLr",
        "outputId": "b63b1a63-f875-4a16-fc5d-9f578fbe1165"
      },
      "execution_count": null,
      "outputs": [
        {
          "output_type": "stream",
          "name": "stdout",
          "text": [
            "313/313 [==============================] - 1s 4ms/step - loss: 0.9294 - accuracy: 0.6985\n"
          ]
        },
        {
          "output_type": "execute_result",
          "data": {
            "text/plain": [
              "[0.9294320344924927, 0.6984999775886536]"
            ]
          },
          "metadata": {},
          "execution_count": 58
        }
      ]
    },
    {
      "cell_type": "code",
      "source": [
        "saved_model = tf.keras.models.load_model('best_model.h5')\n",
        "saved_model.evaluate(x_test,y_test)"
      ],
      "metadata": {
        "colab": {
          "base_uri": "https://localhost:8080/"
        },
        "id": "euv6LhXZ50Bm",
        "outputId": "898458eb-8ff2-4066-e79a-9a84b498f1e4"
      },
      "execution_count": null,
      "outputs": [
        {
          "output_type": "stream",
          "name": "stdout",
          "text": [
            "313/313 [==============================] - 1s 3ms/step - loss: 0.9294 - accuracy: 0.6985\n"
          ]
        },
        {
          "output_type": "execute_result",
          "data": {
            "text/plain": [
              "[0.9294320344924927, 0.6984999775886536]"
            ]
          },
          "metadata": {},
          "execution_count": 56
        }
      ]
    },
    {
      "cell_type": "code",
      "source": [
        "history.history['accuracy']"
      ],
      "metadata": {
        "colab": {
          "base_uri": "https://localhost:8080/"
        },
        "id": "G8Vfv37Y_JyI",
        "outputId": "c2a1cb27-724f-4a46-e041-cddf4468ebf4"
      },
      "execution_count": null,
      "outputs": [
        {
          "output_type": "execute_result",
          "data": {
            "text/plain": [
              "[0.4101249873638153,\n",
              " 0.5592250227928162,\n",
              " 0.6154249906539917,\n",
              " 0.6500499844551086,\n",
              " 0.668624997138977,\n",
              " 0.6908749938011169,\n",
              " 0.7058749794960022,\n",
              " 0.7178999781608582,\n",
              " 0.7288249731063843,\n",
              " 0.7419000267982483,\n",
              " 0.7472500205039978,\n",
              " 0.7537750005722046,\n",
              " 0.7640249729156494,\n",
              " 0.7699750065803528,\n",
              " 0.7749249935150146,\n",
              " 0.7843499779701233]"
            ]
          },
          "metadata": {},
          "execution_count": 52
        }
      ]
    },
    {
      "cell_type": "code",
      "source": [
        "plt.plot(history.history['accuracy'], label='accuracy')\n",
        "plt.plot(history.history['val_accuracy'], label = 'val_accuracy')\n",
        "plt.xlabel('Epoch')\n",
        "plt.ylabel('Accuracy')\n",
        "plt.ylim([0.5, 1])\n",
        "plt.legend(loc='lower right')"
      ],
      "metadata": {
        "colab": {
          "base_uri": "https://localhost:8080/",
          "height": 300
        },
        "id": "A-gJf1sJ_Se7",
        "outputId": "85d91138-161e-446e-e153-f7859b0cc77a"
      },
      "execution_count": null,
      "outputs": [
        {
          "output_type": "execute_result",
          "data": {
            "text/plain": [
              "<matplotlib.legend.Legend at 0x7f8d3a434f50>"
            ]
          },
          "metadata": {},
          "execution_count": 53
        },
        {
          "output_type": "display_data",
          "data": {
            "text/plain": [
              "<Figure size 432x288 with 1 Axes>"
            ],
            "image/png": "[encoded data removed]"
          },
          "metadata": {
            "needs_background": "light"
          }
        }
      ]
    },
    {
      "cell_type": "code",
      "source": [
        "# prediciton\n",
        "np.set_printoptions(suppress=True)\n",
        "predict = saved_model.predict(x_test)"
      ],
      "metadata": {
        "id": "AchLS-qu_uj5"
      },
      "execution_count": null,
      "outputs": []
    },
    {
      "cell_type": "code",
      "source": [
        "index =6\n",
        "print(predict[index])\n",
        "plt.imshow(x_test[index])\n",
        "print(y_test[index])"
      ],
      "metadata": {
        "colab": {
          "base_uri": "https://localhost:8080/",
          "height": 318
        },
        "id": "XJB6LeawEBSi",
        "outputId": "4872d16c-26f2-42d7-8a5f-9945ed779cc1"
      },
      "execution_count": null,
      "outputs": [
        {
          "output_type": "stream",
          "name": "stdout",
          "text": [
            "[0.00048286 0.9799651  0.00004766 0.00160286 0.00000094 0.00706131\n",
            " 0.00011665 0.00018786 0.0000011  0.01053367]\n",
            "[1]\n"
          ]
        },
        {
          "output_type": "display_data",
          "data": {
            "text/plain": [
              "<Figure size 432x288 with 1 Axes>"
            ],
            "image/png": "[encoded data removed]"
          },
          "metadata": {
            "needs_background": "light"
          }
        }
      ]
    },
    {
      "cell_type": "code",
      "source": [],
      "metadata": {
        "id": "aq6iWnziEz_R"
      },
      "execution_count": null,
      "outputs": []
    }
  ]
}